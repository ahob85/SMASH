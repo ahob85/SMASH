{
 "cells": [
  {
   "cell_type": "markdown",
   "metadata": {},
   "source": [
    "<h1>Inserting CSV Data into a SQLite Table</h1>\n",
    "<p><b>For SMASH CS Fundamentals II: Data Analysis</b>\n",
    "<br>This is a quick guide on how to insert CSV data into your SQLite tables via Python.\n",
    "<br>I'll also provide a simple example of how you might visualize the <b>oil pipelines accidents dataset</b>.\n",
    "<p>Link to dataset (courtesy of Kaggle and the US Department of Transportation):\n",
    "<a href=\"https://docs.google.com/spreadsheets/d/1OUXShCPbmqqMvYxHcFlEjFBD68lnYxwyNIxheWW1Xx0/edit?usp=sharing\">https://docs.google.com/spreadsheets/d/1OUXShCPbmqqMvYxHcFlEjFBD68lnYxwyNIxheWW1Xx0/edit?usp=sharing</a>"
   ]
  },
  {
   "cell_type": "markdown",
   "metadata": {},
   "source": [
    "<h2>Getting started</h2>\n",
    "<br>Your first step should be making your own copy of that dataset on Google Docs.\n",
    "<br>Cut and paste that first row into a separate document and call it \"oil dataset key.\"\n",
    "<br>This can help you recall what those columns are since the data itself doesn't tell you much.\n",
    "<br>Then, download the dataset as a <b>CSV</b> (\"comma separated values\") file. \n",
    "<br>Be sure to place the CSV in the same location as your Python file.\n",
    "<img src=\"save.png\" alt=\"save.png\">\n",
    "</p>"
   ]
  },
  {
   "cell_type": "markdown",
   "metadata": {},
   "source": [
    "<h2>Preparing the data, or \"data wrangling\"</h2>\n",
    "<br>Note that Kaggle, the USDOT, and I myself done quite a lot of pre-cleaning for you.\n",
    "<br>That's why this dataset looks (mostly) neat and tidy. \n",
    "<br>It's not perfect. There are missing values for some records, for example.\n",
    "<br>But generally it's at least formatted and ready to go for SQL and Python.\n",
    "<br>The process of formatting and preparing raw data for analysis is called <b>\"data wrangling\"</b> (or \"data munging\").\n",
    "<br>In the real world, much of your time would have been spent on this step alone.\n",
    "<br>Don't you love me?</p>"
   ]
  },
  {
   "cell_type": "markdown",
   "metadata": {},
   "source": [
    "<h2>Import libraries</h2>\n",
    "<p>This time we're going to import the csv package in addition to those you've already used.</p>"
   ]
  },
  {
   "cell_type": "code",
   "execution_count": 1,
   "metadata": {
    "collapsed": true
   },
   "outputs": [],
   "source": [
    "import sqlite3\n",
    "import csv\n",
    "import matplotlib.pyplot as plt"
   ]
  },
  {
   "cell_type": "markdown",
   "metadata": {},
   "source": [
    "<h2>Insert the CSV data</h2>\n",
    "<p>Most of this is very straightfoward.\n",
    "<br>Read the comments to follow what is going on.\n",
    "</p>"
   ]
  },
  {
   "cell_type": "code",
   "execution_count": 2,
   "metadata": {},
   "outputs": [
    {
     "name": "stdout",
     "output_type": "stream",
     "text": [
      "[('KS',), ('ME',), ('LA',), ('WI',), ('TX',), ('ND',), ('TX',), ('TX',), ('TX',), ('TX',)]\n",
      "Total number of records = 2795\n"
     ]
    }
   ],
   "source": [
    "# This part is just like last time. \n",
    "# We are getting our fields from the CSV file. \n",
    "conn = sqlite3.connect(\"oil.db\")\n",
    "cur = conn.cursor()\n",
    "cur.execute(\"DROP TABLE IF EXISTS Accidents\")\n",
    "cur.execute(\"CREATE TABLE Accidents (\"\n",
    "           \"id INTEGER PRIMARY KEY, \"\n",
    "           \"year INTEGER, \"\n",
    "           \"operatorID INTEGER, \"\n",
    "           \"operatorName TEXT, \"\n",
    "           \"state TEXT, \"\n",
    "           \"pipelineLocation TEXT, \"\n",
    "           \"pipelineType TEXT, \"           \n",
    "           \"cause TEXT, \"\n",
    "           \"liquidType TEXT, \"\n",
    "           \"ignition INTEGER, \"\n",
    "           \"explosion INTEGER, \"\n",
    "           \"injuries INTEGER, \"\n",
    "           \"deaths INTEGER, \"\n",
    "           \"oilLoss REAL, \"\n",
    "           \"costs INTEGER)\")\n",
    "\n",
    "# Insert the CSV data into the database.\n",
    "file = open(\"oil pipeline accidents dataset.csv\")\n",
    "csv_file = csv.reader(file)\n",
    "for row in csv_file:\n",
    "    cur.execute(\"INSERT INTO Accidents VALUES (?, ?, ?, ?, ?, ?, ?, ?, ?, ?, ?, ?, ?, ?, ?)\", \n",
    "                (row[0], row[1], row[2], row[3], row[4], row[5], row[6], row[7],\n",
    "                 row[8], row[9], row[10], row[11], row[12], row[13], row[14]))\n",
    "conn.commit()\n",
    "\n",
    "# Tests\n",
    "cur.execute(\"SELECT state FROM Accidents LIMIT 10\")\n",
    "print(cur.fetchall())\n",
    "cur.execute(\"SELECT COUNT(*) FROM Accidents\")\n",
    "print(\"Total number of records =\", cur.fetchone()[0])"
   ]
  },
  {
   "cell_type": "markdown",
   "metadata": {},
   "source": [
    "<h2>Analyze the data</h2>\n",
    "<p>This part you should be familiar with. But I'll show you a few new tricks here too.\n",
    "<br>You've learned how to calculate some statistics, as well as visualize in several ways.\n",
    "<br>Below I'll just provide an example of how you might analyze the data with visualization.\n",
    "<br>Let's figure out how many accidents there are per cause category.\n",
    "</p>"
   ]
  },
  {
   "cell_type": "code",
   "execution_count": 3,
   "metadata": {},
   "outputs": [
    {
     "name": "stdout",
     "output_type": "stream",
     "text": [
      "['INCORRECT OPERATION', 'MATERIAL/WELD/EQUIP FAILURE', 'NATURAL FORCE DAMAGE', 'EXCAVATION DAMAGE', 'ALL OTHER CAUSES', 'CORROSION', 'OTHER OUTSIDE FORCE DAMAGE']\n",
      "[378, 1435, 118, 97, 118, 592, 57]\n"
     ]
    }
   ],
   "source": [
    "# Get the cause categories in a list. \n",
    "# SELECT DISTINCT just fetches all the unique values.\n",
    "# Great for categorical variables, like \"cause category\" here.\n",
    "causes = []\n",
    "cur.execute(\"SELECT DISTINCT cause FROM Accidents\")\n",
    "for row in cur:\n",
    "    causes.append(row[0])\n",
    "print(causes)\n",
    "    \n",
    "# Now we just need to know how many accidents there are per cause category.\n",
    "accidents_per_cause = []\n",
    "for c in causes:\n",
    "    cur.execute(\"SELECT COUNT(*) FROM Accidents WHERE cause = ?\", (c,));\n",
    "    accidents_per_cause.append(cur.fetchone()[0])\n",
    "print(accidents_per_cause)"
   ]
  },
  {
   "cell_type": "markdown",
   "metadata": {},
   "source": [
    "<p>Let's create a bar chart to visualize the differences between cause categories.</p>"
   ]
  },
  {
   "cell_type": "code",
   "execution_count": 4,
   "metadata": {},
   "outputs": [
    {
     "data": {
      "image/png": "[encoded data removed]",
      "text/plain": [
       "<matplotlib.figure.Figure at 0x7f5a1bf43390>"
      ]
     },
     "metadata": {},
     "output_type": "display_data"
    }
   ],
   "source": [
    "# Setup\n",
    "bar_width = 0.35\n",
    "x_range = list(range(0, len(causes), 1))\n",
    "y_range = list(range(0, 1500, 100))\n",
    "plt.rc(\"axes\", axisbelow=True)\n",
    "plt.figure(1)\n",
    "plt.xticks(x_range, causes, rotation=90)\n",
    "plt.yticks(y_range)\n",
    "plt.grid(axis=\"y\")\n",
    "plt.title(\"USA oil pipeline incidents per cause category\\n2010-2017\")\n",
    "\n",
    "# Draw the bar graph.\n",
    "plt.bar(x_range, accidents_per_cause, width=bar_width, color=\"blue\")\n",
    "\n",
    "# Show the bar graph.\n",
    "plt.show()"
   ]
  },
  {
   "cell_type": "markdown",
   "metadata": {},
   "source": [
    "<p>A horizontal bar chart might be easier on the eyes.</p>"
   ]
  },
  {
   "cell_type": "code",
   "execution_count": 5,
   "metadata": {},
   "outputs": [
    {
     "data": {
      "image/png": "[encoded data removed]",
      "text/plain": [
       "<matplotlib.figure.Figure at 0x7f5a1c2137f0>"
      ]
     },
     "metadata": {},
     "output_type": "display_data"
    }
   ],
   "source": [
    "# Setup\n",
    "plt.figure(2)\n",
    "plt.xticks(y_range, rotation=45)\n",
    "plt.yticks(x_range, causes)\n",
    "plt.grid(axis=\"x\")\n",
    "plt.title(\"USA oil pipeline incidents per cause category\\n2010-2017\")\n",
    "\n",
    "# Draw the bar graph.\n",
    "plt.barh(x_range, accidents_per_cause, height=bar_width, color=\"blue\")\n",
    "\n",
    "# Show the bar graph.\n",
    "plt.show()"
   ]
  },
  {
   "cell_type": "markdown",
   "metadata": {},
   "source": [
    "<p>See the benefit of EDA? \n",
    "<br>What was once just a spreadsheet full of values has turned into a beautiful bar chart.\n",
    "<br>You can see at a glance some information about oil pipeline accidents.\n",
    "<br>Based on this information, what might you investigate further?\n",
    "<br>Perhaps you might like to know what is causing equipment to fail and corrode? \n",
    "<br>Or maybe that's not enough? Maybe we should also see what the most costly causes are?\n",
    "<br>What if \"incorrect operation\" actually causes more injuries and deaths when it happens?\n",
    "<br>These are just some of many examples of how you might take this further.</p>"
   ]
  },
  {
   "cell_type": "code",
   "execution_count": 6,
   "metadata": {
    "collapsed": true
   },
   "outputs": [],
   "source": [
    "# As always, close your connection to the database.\n",
    "conn.close()"
   ]
  },
  {
   "cell_type": "markdown",
   "metadata": {},
   "source": [
    "<h2>That's all!</h2>\n",
    "<p>As I told you, inserting data from a CSV is very straightforward.\n",
    "<br>The tough part is wrangling the data in the first place. \n",
    "<br>Data wrangling is outside the scope of this 5 week intro course (thank goodness).\n",
    "<br>So I strongly recommend using a prepared dataset like this one for your final project.\n",
    "<br>And by the way, I've also created a guide to help you with that... using Pokemon!\n",
    "<br>Your teacher will provide you a link. Check it out!\n",
    "</p>"
   ]
  }
 ],
 "metadata": {
  "kernelspec": {
   "display_name": "Python 3",
   "language": "python",
   "name": "python3"
  },
  "language_info": {
   "codemirror_mode": {
    "name": "ipython",
    "version": 3
   },
   "file_extension": ".py",
   "mimetype": "text/x-python",
   "name": "python",
   "nbconvert_exporter": "python",
   "pygments_lexer": "ipython3",
   "version": "3.6.0"
  }
 },
 "nbformat": 4,
 "nbformat_minor": 1
}
